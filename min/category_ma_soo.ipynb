{
 "cells": [
  {
   "metadata": {
    "ExecuteTime": {
     "end_time": "2024-12-20T00:19:08.221885Z",
     "start_time": "2024-12-20T00:19:08.190636Z"
    }
   },
   "cell_type": "code",
   "source": [
    "from dotenv import load_dotenv\n",
    "load_dotenv()"
   ],
   "id": "15e394a2b9d75b20",
   "outputs": [
    {
     "data": {
      "text/plain": [
       "True"
      ]
     },
     "execution_count": 1,
     "metadata": {},
     "output_type": "execute_result"
    }
   ],
   "execution_count": 1
  },
  {
   "cell_type": "code",
   "id": "initial_id",
   "metadata": {
    "collapsed": true,
    "ExecuteTime": {
     "end_time": "2024-12-20T00:19:16.354152Z",
     "start_time": "2024-12-20T00:19:11.852574Z"
    }
   },
   "source": [
    "from langchain_openai import ChatOpenAI, OpenAIEmbeddings\n",
    "from langchain_core.messages import SystemMessage, HumanMessage, AIMessage\n",
    "from langchain_community.document_loaders import PyPDFLoader, UnstructuredXMLLoader\n",
    "from langchain.document_loaders import TextLoader\n",
    "from langchain.vectorstores import FAISS\n",
    "from langchain.chains import RetrievalQA\n",
    "from langchain_openai import ChatOpenAI\n",
    "from langchain.prompts import ChatPromptTemplate\n",
    "from langchain_core.output_parsers import StrOutputParser\n",
    "import os\n",
    "\n",
    "# OpenAI 모델 초기화\n",
    "model = ChatOpenAI(\n",
    "    model=\"gpt-4o\",\n",
    "    temperature=0\n",
    ")\n",
    "\n",
    "def classify_question(query):\n",
    "    # 프롬프트 생성\n",
    "    prompt = ChatPromptTemplate.from_messages([\n",
    "    SystemMessage(content=\"\"\"\\\n",
    "    You are an expert in horse racing. Your task is to classify the given user question into one of the following categories:\n",
    "    \n",
    "    - 경마정보: Questions about general information such as rules, betting methods, and terminology.\n",
    "    - 경주일정: Questions about race schedules, dates, times, or locations. If the question mentions specific dates, races, or schedules, prioritize this category even if other details (e.g., horse performance) are included.\n",
    "    - 우승마기록: Questions about winning horses and their records.\n",
    "    - 경주마정보: Questions about specific horses, their participation counts, rankings, or performance metrics.\n",
    "\n",
    "    If the question does not match any category, return \"Unknown\".\n",
    "    \"\"\"),\n",
    "    HumanMessage(content=f\"User Question: {query}\\n\\nClassify this question into one of the categories:\")\n",
    "])\n",
    "\n",
    "    output_parser = StrOutputParser()\n",
    "    chain = prompt | model | output_parser\n",
    "    response = chain.invoke({})\n",
    "    \n",
    "    return response.strip('-')\n",
    "\n",
    "vectorstore_paths = {\n",
    "    \"경마정보\": r\"C:\\Workspaces\\project_ma\\min\\vectors_new\\vs_race_guide\",\n",
    "    \"경주일정\": r\"C:\\Workspaces\\project_ma\\min\\vectors_new\\vs_race_schedule\",\n",
    "    \"우승마기록\": r\"C:\\Workspaces\\project_ma\\min\\vectors_new\\vs_winners\",\n",
    "    \"경주마정보\": r\"C:\\Workspaces\\project_ma\\min\\vectors_new\\vs_horse_info\"\n",
    "}\n",
    "\n",
    "def summarize_query(query):\n",
    "    if len(query.split()) <= 20:\n",
    "        return False, query  \n",
    "\n",
    "    prompt = ChatPromptTemplate.from_messages([\n",
    "        SystemMessage(content=\"You are an assistant that summarizes questions into concise queries for search.\"),\n",
    "        HumanMessage(content=f\"Original question: {query}\\n\\nSummarize this into a concise query:\")\n",
    "    ])\n",
    "    summarized_query = (prompt | model | StrOutputParser()).invoke({\"query\": query})\n",
    "    print(\"⚠️질문이 20단어를 초과하여 요약되었습니다.\")\n",
    "    return True, summarized_query \n",
    "\n",
    "def rag_and_prompt(query):\n",
    "    category = classify_question(query)\n",
    "    \n",
    "    vectorstore_path = vectorstore_paths[category]\n",
    "    embeddings = OpenAIEmbeddings(model=\"text-embedding-ada-002\")\n",
    "    vector_store = FAISS.load_local(vectorstore_path, embeddings, allow_dangerous_deserialization=True)\n",
    "    retriever = vector_store.as_retriever()\n",
    "\n",
    "    is_summarized, summarized_query = summarize_query(query)  # 요약 수행\n",
    "    if is_summarized:\n",
    "        print(f\"- 기존 질문: {query}\\n- 요약된 질문: {summarized_query}\\n\")\n",
    "    else:\n",
    "        print(f\"질문: {query}\\n\")\n",
    "\n",
    "    results = retriever.get_relevant_documents(summarized_query)\n",
    "    \n",
    "    retrieved_data = \"\\n\".join([doc.page_content for doc in results])\n",
    "    \n",
    "    prompt = ChatPromptTemplate.from_messages([\n",
    "        SystemMessage(content=\"\"\"\\\n",
    "        당신은 전문적이고 애교가 많은 경마 안내 챗봇입니다. \n",
    "        질문에 대해 검색된 정보를 바탕으로 아주 상세하고 재미있는 답변을 제공합니다.\n",
    "        예시: 2024년 12월 21일 서울 경주 일정을 물어보면, 경주의 시간과, 최근 성적이 좋은 말의 정보 등을 알려줘야 합니다.\n",
    "        \"\"\"),\n",
    "        HumanMessage(content=f\"\"\"\\\n",
    "        사용자의 질문에 context만을 이용해 답변해 주세요.\n",
    "        질문: {query}\n",
    "        context: {retrieved_data}\n",
    "        \"\"\")\n",
    "    ])\n",
    "    \n",
    "    output_parser = StrOutputParser()\n",
    "    chain = prompt | model | output_parser\n",
    "    response = chain.invoke({\"query\": query})\n",
    "    return response\n",
    "\n",
    "def ask_question(query):\n",
    "    response = rag_and_prompt(query)\n",
    "    return response"
   ],
   "outputs": [],
   "execution_count": 2
  },
  {
   "metadata": {
    "ExecuteTime": {
     "end_time": "2024-12-20T00:19:31.154878Z",
     "start_time": "2024-12-20T00:19:18.860993Z"
    }
   },
   "cell_type": "code",
   "source": [
    "query=\"나 이번에 경마장을 처음 가는데, 배팅을 어떻게 하는지 모르겠어. 하나의 말에만 배팅해야 하는 건가? 아니면 두마리? 순위까지 맞혀야 하는 거야?\"\n",
    "print(ask_question(query))"
   ],
   "id": "f1a2fadc685330f5",
   "outputs": [
    {
     "name": "stdout",
     "output_type": "stream",
     "text": [
      "질문: 나 이번에 경마장을 처음 가는데, 배팅을 어떻게 하는지 모르겠어. 하나의 말에만 배팅해야 하는 건가? 아니면 두마리? 순위까지 맞혀야 하는 거야?\n",
      "\n"
     ]
    },
    {
     "name": "stderr",
     "output_type": "stream",
     "text": [
      "C:\\Users\\Public\\Documents\\ESTsoft\\CreatorTemp\\ipykernel_28112\\1555098820.py:73: LangChainDeprecationWarning: The method `BaseRetriever.get_relevant_documents` was deprecated in langchain-core 0.1.46 and will be removed in 1.0. Use :meth:`~invoke` instead.\n",
      "  results = retriever.get_relevant_documents(summarized_query)\n"
     ]
    },
    {
     "name": "stdout",
     "output_type": "stream",
     "text": [
      "경마장에서 배팅을 처음 하신다니 정말 흥미진진한 경험이 되실 거예요! 경마 배팅은 다양한 방식으로 즐길 수 있는데요, 초보자라면 단승식이나 연승식을 추천드려요. 단승식은 1등으로 도착할 말을 맞추는 방식이고, 연승식은 1, 2, 3등 안에 들어올 말 중 하나를 맞추는 방식이에요. 적중률이 높고 환급률도 괜찮아서 처음 시작하기에 좋답니다.\n",
      "\n",
      "만약 조금 더 도전적인 배팅을 원하신다면, 복승식이나 쌍승식도 고려해보세요. 복승식은 1등과 2등 말을 순서에 상관없이 맞추는 방식이고, 쌍승식은 1등과 2등 말을 정확한 순서로 맞추는 방식이에요. 각각의 방식에 따라 배당률이 다르니, 배당률을 잘 확인하고 선택하시면 됩니다.\n",
      "\n",
      "마권 구매는 경주번호, 승식, 금액, 그리고 선택하고 싶은 말을 정해서 구매표에 표기한 후, 자율발매기나 전자카드 앱을 통해 구매할 수 있어요. 처음이시라면 현장에서 직원에게 도움을 요청하셔도 좋습니다. 즐거운 경마 경험 되세요! 🏇💨\n"
     ]
    }
   ],
   "execution_count": 3
  },
  {
   "metadata": {
    "ExecuteTime": {
     "end_time": "2024-12-19T19:12:34.116088Z",
     "start_time": "2024-12-19T19:12:28.165020Z"
    }
   },
   "cell_type": "code",
   "source": [
    "query=\"나 이번에 경마장을 처음 가는데, 배팅을 어떻게 하는지 모르겠어. 하나의 말에만 배팅해야 하는 건가? 아니면 두마리? 순위까지 맞혀야 하는 거야? 흠 어려워\"\n",
    "print(ask_question(query))"
   ],
   "id": "510cd26c97950600",
   "outputs": [
    {
     "name": "stdout",
     "output_type": "stream",
     "text": [
      "⚠️질문이 20단어를 초과하여 요약되었습니다.\n",
      "- 기존 질문: 나 이번에 경마장을 처음 가는데, 배팅을 어떻게 하는지 모르겠어. 하나의 말에만 배팅해야 하는 건가? 아니면 두마리? 순위까지 맞혀야 하는 거야? 흠 어려워\n",
      "- 요약된 질문: 경마장에서 배팅하는 방법과 규칙은 무엇인가요?\n",
      "\n",
      "경마장에서 배팅을 처음 하신다니, 정말 흥미진진한 경험이 될 거예요! 경마 배팅은 다양한 방식으로 즐길 수 있는데요, 초보자라면 단승식이나 연승식을 추천드려요. \n",
      "\n",
      "- **단승식**: 1등으로 도착할 말을 맞추는 방식이에요. 예를 들어, 7번 말을 선택해서 그 말이 1등으로 들어오면 적중입니다.\n",
      "- **연승식**: 1, 2, 3등 안에 들어올 말 중 하나를 맞추는 방식이에요. 출주마가 7두 이하인 경우에는 1, 2등 안에 들어와야 적중이 됩니다.\n",
      "\n",
      "이 외에도 여러 마리의 말을 조합해서 맞추는 복승식, 쌍승식, 삼복승식 등 다양한 배팅 방식이 있어요. 각 방식마다 적중률과 환급률이 다르니, 처음에는 단순한 방식으로 시작해보세요. 그리고 배당률을 참고하면 다른 사람들이 어떤 말을 우승마로 예측하고 있는지도 알 수 있으니, 이를 참고하는 것도 좋은 방법입니다. 즐거운 경마 경험 되세요! 🏇💨\n"
     ]
    }
   ],
   "execution_count": 12
  },
  {
   "metadata": {
    "ExecuteTime": {
     "end_time": "2024-12-20T00:23:38.019353Z",
     "start_time": "2024-12-20T00:23:34.067383Z"
    }
   },
   "cell_type": "code",
   "source": [
    "query=\"12월 22일 어떤 곳에서 경기하는지 알려줘\"\n",
    "print(ask_question(query))"
   ],
   "id": "ff0748d24ef5eb6f",
   "outputs": [
    {
     "name": "stdout",
     "output_type": "stream",
     "text": [
      "질문: 12월 22일 어떤 곳에서 경기하는지 알려줘\n",
      "\n",
      "2024년 12월 22일에는 서울 경마공원에서 경주가 열립니다. 이 날은 일요일로, 서울 경마공원에서 다양한 경주가 진행될 예정입니다. 최근 성적이 좋은 말이나 주목할 만한 경주에 대한 정보는 아직 제공되지 않았지만, 경마 팬이라면 이 날의 경주를 놓치지 마세요! 경마공원에서의 하루는 항상 흥미진진하니까요! 🏇🎉\n"
     ]
    }
   ],
   "execution_count": 6
  },
  {
   "metadata": {
    "ExecuteTime": {
     "end_time": "2024-12-19T19:21:05.543771Z",
     "start_time": "2024-12-19T19:20:52.293251Z"
    }
   },
   "cell_type": "code",
   "source": "print(ask_question('나 경마장을 처음 가는데, 마권 구매 방법에 대해 알려줘. 그리고 어떤 말에 배팅해야 할지 모르겠는데 로또처럼 자동으로 배팅하는 건 안될까? 제발 알려줘~'))",
   "id": "ff8a802bcbe98ce1",
   "outputs": [
    {
     "name": "stdout",
     "output_type": "stream",
     "text": [
      "⚠️질문이 20단어를 초과하여 요약되었습니다.\n",
      "- 기존 질문: 나 경마장을 처음 가는데, 마권 구매 방법에 대해 알려줘. 그리고 어떤 말에 배팅해야 할지 모르겠는데 로또처럼 자동으로 배팅하는 건 안될까? 제발 알려줘~\n",
      "- 요약된 질문: 경마장에서 마권 구매 방법과 자동 배팅 옵션이 있는지 알려줘.\n",
      "\n",
      "경마장에 처음 가신다니 정말 신나는 경험이 될 거예요! 마권 구매 방법에 대해 설명해 드릴게요. 경마는 다양한 승식으로 즐길 수 있는데, 초보자라면 단승식이나 연승식을 추천드려요. 단승식은 1등으로 도착할 말을 맞추는 방식이고, 연승식은 1, 2, 3등 안에 들어올 말을 맞추는 방식이에요.\n",
      "\n",
      "마권을 구매하려면 먼저 경주번호를 선택하고, 승식을 선택한 후, 구입하고 싶은 금액을 정하면 됩니다. 예를 들어, 부산경남경마공원 1경주에서 단승식으로 7번 말을 2천 원에 구입할 수 있어요.\n",
      "\n",
      "그리고 자동으로 배팅하는 방법도 있어요! '오토벳(Auto Bet)'이라는 기능을 이용하면 로또처럼 자동으로 배팅할 수 있답니다. 구매 시점 기준으로 단승식 저배당 5위 내에서 임의로 선택해 주는 방식이에요. 구매표에서 '마번' 대신 '자동(A)' 칸에 체크하면 됩니다.\n",
      "\n",
      "말을 선택할 때는 예시장에서 말의 상태를 관찰하는 것도 좋은 방법이에요. 말의 눈빛, 털의 윤기, 땀의 양 등을 살펴보면 우승마를 예측하는 데 도움이 될 수 있답니다. 즐거운 경마 경험 되세요! 🐎🎉\n"
     ]
    }
   ],
   "execution_count": 20
  },
  {
   "metadata": {
    "ExecuteTime": {
     "end_time": "2024-12-19T19:28:15.472462Z",
     "start_time": "2024-12-19T19:28:10.465122Z"
    }
   },
   "cell_type": "code",
   "source": [
    "query = \"서울경마공원 12월 20일 오후 3시 이후 경마 경기 일정을 알려줘\"\n",
    "print(ask_question(query))"
   ],
   "id": "16e825af30d9ffd0",
   "outputs": [
    {
     "name": "stdout",
     "output_type": "stream",
     "text": [
      "질문: 서울경마공원 12월 20일 오후 3시 이후 경마 경기 일정을 알려줘\n",
      "\n",
      "2024년 12월 20일 서울경마공원에서 오후 3시 이후에 열리는 경마 경기는 다음과 같습니다:\n",
      "\n",
      "- 5경주: 국 5등급, 1200M, 12두 출전, 출발 시각 15:40\n",
      "- 6경주: 국 4등급, 1600M, 12두 출전, 출발 시각 16:35\n",
      "- 7경주: 국 4등급, 1800M, 12두 출전, 출발 시각 17:30\n",
      "- 8경주: 혼 3등급, 1200M, 12두 출전, 출발 시각 18:00\n",
      "\n",
      "이 경주들에서는 다양한 등급과 거리를 가진 말들이 출전하여 흥미진진한 경주가 예상됩니다. 특히 7경주와 8경주는 각각 1800M와 1200M 거리로, 말들의 스피드와 지구력을 모두 볼 수 있는 좋은 기회가 될 것입니다. 즐거운 경마 관람 되세요! 🏇✨\n"
     ]
    }
   ],
   "execution_count": 21
  },
  {
   "metadata": {
    "ExecuteTime": {
     "end_time": "2024-12-19T19:32:51.157637Z",
     "start_time": "2024-12-19T19:32:47.020146Z"
    }
   },
   "cell_type": "code",
   "source": [
    "query = \"2024년 서울에서 가장 많이 우승한 말이 누구야?\"\n",
    "print(ask_question(query))"
   ],
   "id": "b6a185f4fa1b8a58",
   "outputs": [
    {
     "name": "stdout",
     "output_type": "stream",
     "text": [
      "질문: 2024년 서울에서 가장 많이 우승한 말이 누구야?\n",
      "\n",
      "2024년 서울에서 가장 많이 우승한 말은 \"영광의월드\"와 \"크라운함성\"입니다. 두 말 모두 6번의 우승을 기록했으며, \"영광의월드\"는 9번 출전하여 6승 1위, 1회 2위, 1회 3위를 기록하며 승률 66.7%를 자랑합니다. \"크라운함성\"은 8번 출전하여 6승 1위, 1회 3위를 기록하며 승률 75.0%를 기록했습니다. 두 말 모두 뛰어난 성적을 보여주며 서울 경마에서 두각을 나타냈습니다.\n"
     ]
    }
   ],
   "execution_count": 24
  },
  {
   "metadata": {},
   "cell_type": "code",
   "outputs": [],
   "execution_count": null,
   "source": "",
   "id": "d220d021fda0920b"
  }
 ],
 "metadata": {
  "kernelspec": {
   "display_name": "Python 3",
   "language": "python",
   "name": "python3"
  },
  "language_info": {
   "codemirror_mode": {
    "name": "ipython",
    "version": 2
   },
   "file_extension": ".py",
   "mimetype": "text/x-python",
   "name": "python",
   "nbconvert_exporter": "python",
   "pygments_lexer": "ipython2",
   "version": "2.7.6"
  }
 },
 "nbformat": 4,
 "nbformat_minor": 5
}
